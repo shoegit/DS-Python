{
 "cells": [
  {
   "cell_type": "markdown",
   "metadata": {},
   "source": [
    "# ![](https://ga-dash.s3.amazonaws.com/production/assets/logo-9f88ae6c9c3871690e33280fcf557f33.png)  Data Visualization with Matplotlib\n",
    "### Learning Objectives\n",
    "*After this lesson, you will be able to:\n",
    "- use the Matplotlib API to create plots\n",
    "- compare the use of explicit and implicit Matplotlib APIs\n",
    "\n"
   ]
  },
  {
   "cell_type": "markdown",
   "metadata": {},
   "source": [
    "### Part 2: Data Visualization with Matplotlib\n",
    "\n",
    "We have already started to use Matplotlib when we used Pandas to create our plots using the DataFrame objects.As before:\n",
    "\n",
    "- We use the `matplotlib.pyplot` module to help create our plots. This will give us many customization options.\n",
    "- To make our plots display within this notebook, we will have to set the option `%matplotlib inline`.\n",
    "- To save our plots to file, we can use `plt.savefig(filename)`\n",
    "- You can change the *style* of the plots, refer to [Matplotlib Stylesheets](https://matplotlib.org/stable/gallery/style_sheets/style_sheets_reference.html)\n",
    "\n",
    "Let's start with the required imports:\n"
   ]
  },
  {
   "cell_type": "code",
   "execution_count": null,
   "metadata": {},
   "outputs": [],
   "source": [
    "import pandas as pd\n",
    "import numpy as np\n",
    "import matplotlib.pyplot as plt\n",
    "\n",
    "# set the plots to display within the Jupyter notebook\n",
    "%matplotlib inline\n",
    "\n",
    "# set stylesheet using pyplot\n",
    "plt.style.use('ggplot')\n",
    "# You can try other styles such as 'classic', 'ggplot', grayscale'\n"
   ]
  },
  {
   "cell_type": "markdown",
   "metadata": {},
   "source": [
    "### 2.1 Explicitly Creating Figure and Axes Objects\n",
    "\n",
    "There are a few ways to create plots using Matplotlib. The method that provides the most flexibility and options is to create and instantiate separate Axes objects for creating the plots.\n",
    "\n",
    "You can customize various components of the figure: \n",
    "\n",
    "![Anatomy of a figure](https://matplotlib.org/stable/_images/anatomy.png)."
   ]
  },
  {
   "cell_type": "markdown",
   "metadata": {},
   "source": [
    "### Matplotlib Figure\n",
    "\n",
    "Matplotlib creates plots within Figures. Calling `figure()` with pyplot will create an empty figure.\n"
   ]
  },
  {
   "cell_type": "code",
   "execution_count": null,
   "metadata": {},
   "outputs": [],
   "source": [
    "plt.figure()"
   ]
  },
  {
   "cell_type": "markdown",
   "metadata": {},
   "source": [
    "### Matplotlib Axes\n",
    "\n",
    "The figure may contain one or more Axes, which are the actual plots that will be created. The `subplots()` function returns a tuple consisting of the figure and a set of Axes.\n"
   ]
  },
  {
   "cell_type": "code",
   "execution_count": null,
   "metadata": {},
   "outputs": [],
   "source": [
    "plt.subplots()"
   ]
  },
  {
   "cell_type": "markdown",
   "metadata": {},
   "source": [
    "### Referencing the Axes\n",
    "\n",
    "We can refer to the objects in the returned tuple.  Setting up our plots in the following way will give us more control over the various plot elements."
   ]
  },
  {
   "cell_type": "code",
   "execution_count": null,
   "metadata": {},
   "outputs": [],
   "source": [
    "# Creating a figure with one Axes\n",
    "fig, ax = plt.subplots()\n",
    "print(type(fig))\n",
    "print(type(ax))"
   ]
  },
  {
   "cell_type": "markdown",
   "metadata": {},
   "source": [
    "#### Adding a plot\n",
    "\n",
    "We will look creating more subplots later, but for now let's try a simple plot on the Axes. \n"
   ]
  },
  {
   "cell_type": "code",
   "execution_count": null,
   "metadata": {},
   "outputs": [],
   "source": [
    "# Creating a figure with one Axes\n",
    "fig, ax = plt.subplots()\n",
    "x_val=(1, 2, 3, 4)\n",
    "y_val=(1, 4, 2, 3)\n",
    "ax.plot(x_val, y_val )"
   ]
  },
  {
   "cell_type": "markdown",
   "metadata": {},
   "source": [
    "### Load in data sets for visualization\n",
    "\n"
   ]
  },
  {
   "cell_type": "code",
   "execution_count": null,
   "metadata": {},
   "outputs": [],
   "source": [
    "# use the returned_orders that we joined in the previous lab\n",
    "# this shows more information about each product - category, subcategory, etc\n",
    "orders = pd.read_csv('datasets/returned_orders.csv')\n",
    "orders.head()"
   ]
  },
  {
   "cell_type": "markdown",
   "metadata": {},
   "source": [
    "<a id=\"histograms\"></a>\n",
    "## Histograms using Matplotlib\n",
    "\n",
    "Previously, we have used Pandas to create our plots. Let's compare the difference between:\n",
    "\n",
    "- using the DataFrame : `DataFrame.hist()` \n",
    "- explicitly using the Axes object: `Axes.hist()` \n",
    "\n",
    "For example, we can visualise the distribution of the `sales` in orders:\n"
   ]
  },
  {
   "cell_type": "code",
   "execution_count": null,
   "metadata": {},
   "outputs": [],
   "source": [
    "# USing Pandas\n",
    "orders.hist('sales', figsize=(5,3))\n"
   ]
  },
  {
   "cell_type": "code",
   "execution_count": null,
   "metadata": {
    "scrolled": false
   },
   "outputs": [],
   "source": [
    "# Using pyplot - what's the difference?\n",
    "\n",
    "# Setup figure and axes and total size of figure\n",
    "fig, ax = plt.subplots(figsize=(5,3))\n",
    "\n",
    "# Create a histogram on the data in the discount column\n",
    "ax.hist(orders['sales'])\n"
   ]
  },
  {
   "cell_type": "code",
   "execution_count": null,
   "metadata": {},
   "outputs": [],
   "source": [
    "# Setup figure and axes and total size of figure\n",
    "fig, ax = plt.subplots(figsize=(20,6))\n",
    "\n",
    "# Create a histogram with 5 bins and blue bars\n",
    "ax.hist(orders['discount'], bins=5, color='b')\n",
    "\n",
    "# Set the titles\n",
    "plt.title('Distribution of Discount')\n",
    "plt.xlabel('Discount given')\n",
    "plt.ylabel('Number of Orders')\n",
    "\n",
    "# show the plot, but not the last output\n",
    "plt.savefig('Histogram of Discount')\n",
    "plt.show()\n"
   ]
  },
  {
   "cell_type": "markdown",
   "metadata": {},
   "source": [
    "### Showing Data Labels\n",
    "\n",
    "The advantage of using Pyplot is that we do have more control over what we can customize. \n",
    "\n",
    "Notice the objects that are returned by two `hist()` methods above. \n",
    "\n",
    "`ax.hist()` returns a tuple of three objects:\n",
    "```\n",
    "(array([9.539e+03, 8.740e+02, 2.820e+02, 1.130e+02, 6.600e+01, 2.700e+01,\n",
    "        9.000e+00, 6.000e+00, 5.000e+00, 2.000e+00]),\n",
    " array([2.880000e+00, 7.024560e+02, 1.402032e+03, 2.101608e+03,\n",
    "        2.801184e+03, 3.500760e+03, 4.200336e+03, 4.899912e+03,\n",
    "        5.599488e+03, 6.299064e+03, 6.998640e+03]),\n",
    " <BarContainer object of 10 artists>)\n",
    "```\n",
    "\n",
    "The first one is the array of the frequency values (the height of the histogram bars), the second one are the bin thresholds, and the third are the bars that are actually plotted.\n",
    "\n",
    "We can use access these returned objects to customize the format of the plots. \n",
    "\n",
    "We can store these three objects into three variables as below, so that we can display the bar labels."
   ]
  },
  {
   "cell_type": "code",
   "execution_count": null,
   "metadata": {},
   "outputs": [],
   "source": [
    "# Setup figure and axes and total size of figure\n",
    "fig, ax = plt.subplots(figsize=(20,6))\n",
    "\n",
    "# Create a histogram with 15 bins and blue bars\n",
    "# store the result into three different variables\n",
    "values, bins, bars = ax.hist(orders['sales'], color='b')\n",
    "\n",
    "# Set the titles\n",
    "plt.title('Distribution of Discount')\n",
    "plt.xlabel('Discount given')\n",
    "plt.ylabel('Number of Orders')\n",
    "\n",
    "# show the bar labels\n",
    "plt.bar_label(bars)\n",
    "\n",
    "# mark the bin positions\n",
    "plt.xticks(bins)\n",
    "\n",
    "# show the plot, but not the last output\n",
    "plt.show()\n"
   ]
  },
  {
   "cell_type": "markdown",
   "metadata": {},
   "source": [
    "### Subplots\n",
    "\n",
    "We can also create a figure with multiple subplots, where each subplot is an Axes object. \n",
    "\n",
    "The default number of rows and columns is 1. However, we can define the number of subplots that we want in a figure.\n",
    "\n",
    "Try changing the values of the arguments below."
   ]
  },
  {
   "cell_type": "code",
   "execution_count": null,
   "metadata": {},
   "outputs": [],
   "source": [
    "## Test setting up subplots\n",
    "plt.subplots(nrows=2, ncols=1, figsize=(8,3), sharex=True, sharey=False)"
   ]
  },
  {
   "cell_type": "markdown",
   "metadata": {},
   "source": [
    "#### Adding subplots\n",
    "\n",
    "As you can see the variable `ax` is an array, so we can manage each of the Axes separately."
   ]
  },
  {
   "cell_type": "code",
   "execution_count": null,
   "metadata": {
    "scrolled": true
   },
   "outputs": [],
   "source": [
    "# Setup figure and axes and total size of figure\n",
    "fig, ax = plt.subplots(nrows=3, ncols=2, figsize=(20,15))\n",
    "\n",
    "# Since there are 3 rows and 2 columns, ax will be a two-dimensional array\n",
    "# the rows are indexed from 0 to 2 and cols are from 0 to 1\n",
    "# Axes in First row, first column: Row=0, Col=0\n",
    "ax[0,0].set_title('Discount')\n",
    "ax[0,0].hist(orders['discount'])\n",
    "\n",
    "# Row=0,Col=1 : Histogram for quantity\n",
    "ax[0,1].set_title('Quantity')\n",
    "ax[0,1].hist(orders['quantity'])\n",
    "\n",
    "# Second row, first column: Row = 1, Col = 0 - Can use a different type of plot \n",
    "ax[1,0].set_title('Discount with Boxplot')\n",
    "ax[1,0].boxplot(orders['discount'],vert=False)\n",
    "\n",
    "# Row = 1, Col = 1 : Pie chart for category orders\n",
    "orders_per_category = orders.groupby('category')['order_id'].count()\n",
    "ax[1,1].set_title('Orders Per Category')\n",
    "ax[1,1].pie(orders_per_category, labels=orders_per_category.index, autopct='%1.1f%%')\n",
    "\n",
    "# Row=2,Col=0 : a scatter plot\n",
    "ax[2,0].set_title('Sales By Unit Cost')\n",
    "ax[2,0].plot(orders['unit_cost'],orders['sales'],'o', color='b', alpha=0.2)\n",
    "\n",
    "\n",
    "# Bar chart for unit cost\n",
    "sales_by_sub_category = orders.groupby('sub_category')['sales'].sum().sort_values().tail(3).reset_index()\n",
    "ax[2,1].set_title('Top 3 Sales by Sub Category')\n",
    "bars = ax[2,1].barh(sales_by_sub_category['sub_category'], sales_by_sub_category['sales'])\n",
    "ax[2,1].bar_label(bars, label_type='center',  labels=[f'${x:,.2f}' for x in bars.datavalues])\n",
    "\n",
    "\n",
    "# Set the figure's (super) title\n",
    "fig.suptitle('Order Information', fontsize=20)\n",
    "\n",
    "# Fit spacing between all the subplots\n",
    "fig.tight_layout()\n",
    "plt.show()"
   ]
  },
  {
   "cell_type": "markdown",
   "metadata": {},
   "source": [
    "### Bar Charts\n",
    "\n",
    "One of the subplots above is a bar chart. Matplotlib bar charts take two variables - the series for the x-axis and the height of the bar, which is another series. \n",
    "\n",
    "If we are comparing categorical values, we would need to compare based on an aggregation, such as the `sum()`, `mean()`, `count()`, etc.\n",
    "\n",
    "So we usually use the `groupby()` method to calculate the aggregate value to be plotted on the bar. \n",
    "\n",
    "This returns a series. The `reset_index()` method is set the group by values as a column instead of the index. This can be used to convert the series to a DataFrame, then the columns can be extracted.\n",
    "\n"
   ]
  },
  {
   "cell_type": "code",
   "execution_count": null,
   "metadata": {},
   "outputs": [],
   "source": [
    "# Get the mean sales value by category\n",
    "by_cat = orders.groupby('category')['sales'].mean()\n",
    "\n",
    "# uncomment to see the difference when you reset the index\n",
    "#by_cat = by_cat.reset_index()\n",
    "by_cat\n",
    "\n"
   ]
  },
  {
   "cell_type": "code",
   "execution_count": null,
   "metadata": {},
   "outputs": [],
   "source": [
    "# Plot the bar chart\n",
    "fig, ax= plt.subplots()\n",
    "bars = ax.bar(by_cat['category'], by_cat['sales'], color=('b','g','r'))\n",
    "ax.set_title('Mean Sales by Category')\n",
    "plt.show()"
   ]
  },
  {
   "cell_type": "markdown",
   "metadata": {},
   "source": [
    "<a id=\"scatter-plots\"></a>\n",
    "## Customizing Scatter plots\n",
    "\n",
    "Scatter plots can use more than two dimensions of data in the plot:\n",
    "\n",
    "- x-axis\n",
    "- y-axis\n",
    "- size of marker\n",
    "- color of marker\n",
    "\n",
    "Here is an example of creating the scatter plot and setting up the columns to be used on the x- and y- axes, as well as the marker to be used, the size (s) and color (c). Alpha is used to set the transparency. "
   ]
  },
  {
   "cell_type": "code",
   "execution_count": null,
   "metadata": {},
   "outputs": [],
   "source": [
    "# Setup figure and axes and total size of figure\n",
    "fig, ax = plt.subplots(figsize=(10,6))\n",
    "\n",
    "# Create scatter plot and keep a reference to the plot\n",
    "# Using data series to control the size and color of the markers\n",
    "scatter = ax.scatter(orders['discount'],orders['profit_margin'], s=orders['sales']/20, c = orders['quantity'], marker='v', cmap='viridis_r',alpha=0.5)\n",
    "plt.xlabel('Discount')\n",
    "plt.ylabel('Profit Margin')\n",
    "\n",
    "# Show the color bar based on the colors of the markers\n",
    "cbar = plt.colorbar(scatter)\n",
    "cbar.set_label('Quantity')\n",
    "\n",
    "\n",
    "# produce a legend with a cross-section of sizes from the scatter\n",
    "# The size markers of the legend is an inverse function from the scatter plot marker size\n",
    "handles, labels = scatter.legend_elements(prop=\"sizes\", alpha=0.6, func=lambda x: 20*x)\n",
    "legend2 = ax.legend(handles, labels, loc=\"lower left\", title=\"Sales ($)\")\n",
    "\n",
    "plt.show()\n"
   ]
  },
  {
   "cell_type": "markdown",
   "metadata": {},
   "source": [
    "### 2.2. The Pyplot interface\n",
    "\n",
    "We can also use the Pyplot interface to create plots without explicitly specifying the figure and axes. According to the [documentation](https://matplotlib.org/stable/users/explain/api_interfaces.html#api-interfaces), the implicit \"pyplot\" interface keeps track of the last Figure and Axes created, and adds Artists to the object it thinks the user wants.\n",
    "\n",
    "As you search for help on creating your plots, you may come across code samples that use either approach so it is important to be aware of both.\n"
   ]
  },
  {
   "cell_type": "code",
   "execution_count": null,
   "metadata": {},
   "outputs": [],
   "source": [
    "# Example using Pyplot\n",
    "\n",
    "sc = plt.scatter(orders['discount'],orders['profit_margin'], s=orders['sales']/20, c = orders['quantity'], marker='v', cmap='viridis_r',alpha=0.5)\n",
    "plt.colorbar(label='quantity')  #assumes colorbar is for the last plotted object\n",
    "plt.legend(*sc.legend_elements(\"sizes\", func=lambda x: 20*x, num=8), title='Sales')\n",
    "\n",
    "plt.show()"
   ]
  },
  {
   "cell_type": "markdown",
   "metadata": {},
   "source": [
    "### Creating Subplots Implicitly\n",
    "\n",
    "We can create subplots implicitly by adding on subplots to the figure."
   ]
  },
  {
   "cell_type": "code",
   "execution_count": null,
   "metadata": {},
   "outputs": [],
   "source": [
    "# Creating subplots with pyplot\n",
    "# Create a figure with width 20 and height 10\n",
    "plt.figure(figsize=(20,10))\n",
    "\n",
    "# plt.subplot(3, 2, 1) means we have 3 rows, 2 columns, and are referencing plot (or Axes) 1.\n",
    "plt.subplot(3,2,1)\n",
    "plt.title('Discount')\n",
    "plt.hist(orders['discount'])\n",
    "\n",
    "# plt.subplot(322) is another (shortcut) way of referencing subplot 2, using the pos= argument.\n",
    "plt.subplot(322)\n",
    "plt.title('Sales')\n",
    "plt.hist(orders['sales'])\n",
    "\n",
    "# Try to create another subplot\n",
    "plt.subplot(325)\n",
    "plt.title('Where does this end up??')\n",
    "\n",
    "# Set the figure's (super) title\n",
    "plt.suptitle('Distibution of Numeric Data', fontsize=20)\n",
    "plt.show()"
   ]
  },
  {
   "cell_type": "markdown",
   "metadata": {},
   "source": [
    "### Comparing Categories\n",
    "\n",
    "We can add plots to the same axes, by just calling the required plot functions. In Matplotlib, we can filter the DataFrame by category to compare them.\n",
    "\n"
   ]
  },
  {
   "cell_type": "code",
   "execution_count": null,
   "metadata": {},
   "outputs": [],
   "source": [
    "# Comparing orders for the three categories\n",
    "\n",
    "furniture = orders[orders['category']=='Furniture']\n",
    "technology = orders[orders['category']=='Technology']\n",
    "office = orders[orders['category']=='Office Supplies']\n",
    "\n"
   ]
  },
  {
   "cell_type": "code",
   "execution_count": null,
   "metadata": {},
   "outputs": [],
   "source": [
    "# Plot trends by category\n",
    "f_sales = furniture.groupby('order_year')['sales'].sum()\n",
    "t_sales = technology.groupby('order_year')['sales'].sum()\n",
    "o_sales = office.groupby('order_year')['sales'].sum()\n",
    "\n",
    "plt.plot(f_sales.index, f_sales.values, label='Furniture')\n",
    "#plt.plot(t_sales.index, t_sales.values, label='Technology')\n",
    "#plt.plot(o_sales.index, o_sales.values, label='Office Supplies')\n",
    "\n",
    "# add a reference line \n",
    "#plt.vlines(x=2021, ymin=0, ymax=460000, color='green')\n",
    "\n",
    "# set the x ticks at the year values so the fractions don't appear\n",
    "#plt.xticks(f_sales.index)\n",
    "plt.legend()\n",
    "plt.show()"
   ]
  },
  {
   "cell_type": "code",
   "execution_count": null,
   "metadata": {},
   "outputs": [],
   "source": [
    "# Scatter plots for the three categories\n",
    "\n",
    "# Setting alpha = 1 means solid colors, but can't see the overlap.\n",
    "plt.scatter(furniture['discount'], furniture['quantity'], alpha=0.8, label='Furniture')\n",
    "plt.scatter(technology['discount'], technology['quantity'],alpha=0.8, label='Technology')\n",
    "plt.scatter(office['discount'], office['quantity'],alpha=0.8, label='Office Supplies')\n",
    "plt.legend()\n",
    "plt.show()"
   ]
  },
  {
   "cell_type": "markdown",
   "metadata": {},
   "source": [
    "#### Summary\n",
    "\n",
    "Matplotlib's pyplot module provides customization options on the plots. You can use either approach for creating the plots:\n",
    "\n",
    "#### Explicitly referencing the figure and axes \n",
    "\n",
    "```\n",
    "fig,ax = plt.subplots(nrows = ..., ncols = ...)\n",
    "ax.plot(...)\n",
    "plt.show()\n",
    "```\n",
    "\n",
    "#### Using pyplot implicitly\n",
    "```\n",
    "plt.plot(...)\n",
    "plt.show()\n",
    "```\n",
    "\n",
    "However, as you can see, it can be quite cumbersome to plot the charts based on the various categorical values. We will look at using other libraries to do this.\n",
    "\n"
   ]
  },
  {
   "cell_type": "markdown",
   "metadata": {},
   "source": [
    "### Review and Homework\n",
    "\n",
    "Let's practice what we have learned in this unit. We will try to create plots based on the `diamondss` data set. You can use either approach to create the plots (or both to compare!). Add titles, text or labels as you wish to practice.\n"
   ]
  },
  {
   "cell_type": "code",
   "execution_count": null,
   "metadata": {},
   "outputs": [],
   "source": [
    "# Make sure you have the necessary imports\n",
    "import pandas as pd\n",
    "import numpy as np\n",
    "import matplotlib.pyplot as plt\n",
    "\n",
    "# Read in the diamonds data set\n",
    "diamonds = pd.read_csv('datasets/diamonds.csv')"
   ]
  },
  {
   "cell_type": "markdown",
   "metadata": {},
   "source": [
    "Q1. Create a figure with two subplots to compare the distribution of `price` for the diamonds\n",
    "- first subplot is a histogram\n",
    "- second subplot is a boxplot"
   ]
  },
  {
   "cell_type": "code",
   "execution_count": null,
   "metadata": {},
   "outputs": [],
   "source": [
    "# Q1 Answer"
   ]
  },
  {
   "cell_type": "markdown",
   "metadata": {},
   "source": [
    "Q2. Create a bar chart to compare the mean price of diamonds based on the `cut`. Try to set the colors for the bars.\n"
   ]
  },
  {
   "cell_type": "code",
   "execution_count": null,
   "metadata": {},
   "outputs": [],
   "source": [
    "# Q2 Answer"
   ]
  },
  {
   "cell_type": "markdown",
   "metadata": {},
   "source": [
    "Q3. Create a scatter plot to compare the price vs the carat weight of all the diamonds."
   ]
  },
  {
   "cell_type": "code",
   "execution_count": null,
   "metadata": {},
   "outputs": [],
   "source": [
    "# Q3 Ansewr"
   ]
  },
  {
   "cell_type": "markdown",
   "metadata": {},
   "source": [
    "Q4. Filter the diamonds to obtain three dataframes each for the following cuts:\n",
    "- 'Premium'\n",
    "- 'Very Good'\n",
    "- 'Fair'\n",
    "\n"
   ]
  },
  {
   "cell_type": "code",
   "execution_count": null,
   "metadata": {},
   "outputs": [],
   "source": [
    "# Q4 Answer"
   ]
  },
  {
   "cell_type": "markdown",
   "metadata": {},
   "source": [
    "Q5. Create a scatter plot to compare the price vs carat weight for each of the three cuts (Premium, Very Good and Fair) shown in a different color, using on the three dataframes you have created in Q4.\n"
   ]
  },
  {
   "cell_type": "code",
   "execution_count": null,
   "metadata": {},
   "outputs": [],
   "source": [
    "# Q5 Answer"
   ]
  }
 ],
 "metadata": {
  "kernelspec": {
   "display_name": "Python 3 (ipykernel)",
   "language": "python",
   "name": "python3"
  },
  "language_info": {
   "codemirror_mode": {
    "name": "ipython",
    "version": 3
   },
   "file_extension": ".py",
   "mimetype": "text/x-python",
   "name": "python",
   "nbconvert_exporter": "python",
   "pygments_lexer": "ipython3",
   "version": "3.9.7"
  }
 },
 "nbformat": 4,
 "nbformat_minor": 2
}
