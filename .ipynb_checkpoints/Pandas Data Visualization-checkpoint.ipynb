{
 "cells": [
  {
   "cell_type": "markdown",
   "metadata": {},
   "source": [
    "# ![](https://ga-dash.s3.amazonaws.com/production/assets/logo-9f88ae6c9c3871690e33280fcf557f33.png) Python Data Visualization (Solutions)\n",
    "\n",
    "### Learning Objectives\n",
    "*After this lesson, you will be able to:*\n",
    "- Use Pandas and Matplotlib to create simple plots\n",
    "\n",
    "We'll cover plotting line plots, scatter plots, bar plots, and histograms, and a brief introduction on how to manipulate the style of your plots with Matplotlib.\n"
   ]
  },
  {
   "cell_type": "markdown",
   "metadata": {},
   "source": [
    "### Part 1: Pandas and Matplotlib\n",
    "\n",
    "In this lesson, we will introduce how plotting works in Pandas and Matplotlib. It is important to know that Pandas uses Matplotlib behind the scenes to make plots. So, you will notice that Pandas plotting methods often use similar parameter names as Matplotlib methods. Further, you can use Matplotlib functions in combination with Pandas methods to alter the plots after drawing them. For example, you can use Matplotlib's `xlabel` and `title` functions to label the plot's x-axis and title, respectively, after it is drawn.\n",
    "\n",
    "As we explore different types of plots, notice:\n",
    "\n",
    "1. Different types of plots are drawn very similarly -- they even tend to share parameter names.\n",
    "2. In Pandas, calling `plot()` on a `DataFrame` is different than calling it on a `Series`. Although the methods are both named `plot`, they may take different parameters."
   ]
  },
  {
   "cell_type": "markdown",
   "metadata": {},
   "source": [
    "*Sometimes Pandas can be a little frustrating... perseverance is key!*\n",
    "\n",
    "<img src=\"https://media.giphy.com/media/EPcvhM28ER9XW/giphy.gif\" width=\"200\" align=\"left\">"
   ]
  },
  {
   "cell_type": "markdown",
   "metadata": {},
   "source": [
    "## Plotting with Pandas: How?\n",
    "\n",
    "\n",
    "Some notes before we start:\n",
    "- We are going to use the `matplotlib.pyplot` module to help create our plots. This will give us many customization options.\n",
    "- To make our plots display within this notebook, we will have to set the option `%matplotlib inline`.\n",
    "- To save our plots to file, we can use `plt.savefig(filename)`\n",
    "- You can change the *style* of the plots, refer to [Matplotlib Stylesheets](https://matplotlib.org/stable/gallery/style_sheets/style_sheets_reference.html)\n",
    "\n"
   ]
  },
  {
   "cell_type": "code",
   "execution_count": null,
   "metadata": {},
   "outputs": [],
   "source": [
    "import pandas as pd\n",
    "import numpy as np\n",
    "import matplotlib.pyplot as plt\n",
    "\n",
    "# set the plots to display within the Jupyter notebook\n",
    "%matplotlib inline\n",
    "\n",
    "# set stylesheet using pyplot\n",
    "plt.style.use('ggplot')\n",
    "# You can try other styles such as 'classic', 'ggplot', grayscale'\n"
   ]
  },
  {
   "cell_type": "markdown",
   "metadata": {},
   "source": [
    "### Load in data sets for visualization\n",
    "\n"
   ]
  },
  {
   "cell_type": "code",
   "execution_count": null,
   "metadata": {},
   "outputs": [],
   "source": [
    "# use the orders by product that we joined in the previous lab\n",
    "# this shows more information about each product - category, subcategory, etc\n",
    "orders = pd.read_csv('datasets/orders_by_product.csv')\n",
    "orders.head()"
   ]
  },
  {
   "cell_type": "markdown",
   "metadata": {},
   "source": [
    "<a id=\"histograms\"></a>\n",
    "## Histograms: Show the distribution of a numerical variable\n",
    "---\n",
    "\n",
    "Histograms help us to see the distribution of a numerical variable, by putting each value in a bin and then plotting the frequency of each bin.\n",
    "\n",
    "For example, we can visualise the distribution of the `discount` in orders:\n"
   ]
  },
  {
   "cell_type": "code",
   "execution_count": null,
   "metadata": {
    "scrolled": false
   },
   "outputs": [],
   "source": [
    "# Create a histogram on the data in the discount column\n",
    "orders['discount'].plot(kind='hist', figsize=(5,3))\n",
    "\n"
   ]
  },
  {
   "cell_type": "code",
   "execution_count": null,
   "metadata": {},
   "outputs": [],
   "source": [
    "# You can also set the bins parameter, like this:\n",
    "orders['sales'].plot(kind='hist', bins=20)"
   ]
  },
  {
   "cell_type": "markdown",
   "metadata": {},
   "source": [
    "#### Using hist()\n",
    "\n",
    "Pandas also provides another approach using the `hist()` method on the series:"
   ]
  },
  {
   "cell_type": "code",
   "execution_count": null,
   "metadata": {},
   "outputs": [],
   "source": [
    "# using hist() and also setting the number of bins required\n",
    "orders['discount'].hist(bins=5)\n",
    "\n",
    "# Set the titles\n",
    "plt.title('Distribution of Discount')\n",
    "plt.xlabel('Discount given')\n",
    "plt.ylabel('Number of Orders')\n",
    "\n",
    "# to remove the output that shows the returned object, use pyplot's show() function\n",
    "plt.show()"
   ]
  },
  {
   "cell_type": "markdown",
   "metadata": {},
   "source": [
    "### Making histograms of an entire dataframe:\n",
    "\n",
    "The `hist()` method is useful to make histograms on the entire DataFrame to compare distributions quickly."
   ]
  },
  {
   "cell_type": "code",
   "execution_count": null,
   "metadata": {},
   "outputs": [],
   "source": [
    "orders.hist(figsize=(16,8))\n",
    "plt.show()"
   ]
  },
  {
   "cell_type": "markdown",
   "metadata": {},
   "source": [
    "### Overlapping Histograms\n",
    "\n",
    "We can index the DataFrame to select the columns that we want to plot. This will show them in the same scale. \n"
   ]
  },
  {
   "cell_type": "code",
   "execution_count": null,
   "metadata": {},
   "outputs": [],
   "source": [
    "# Set the size of the plot\n",
    "plt.figure(figsize=(8,3))\n",
    "\n",
    "# Overlapping histograms to compare discount and profit margin\n",
    "# plot the histogram of profit margin and discount together\n",
    "# set the transparency using alpha to show where they overlap\n",
    "orders[['profit_margin','discount']].plot(kind='hist', alpha=0.6, bins=30, figsize=(8,3), xlim=(-2,1))\n",
    "plt.show()\n"
   ]
  },
  {
   "cell_type": "markdown",
   "metadata": {},
   "source": [
    "### Boxplots: Show Distribution between categories\n",
    "\n",
    "A boxplot (or box-and-whisker) plot can also be used to give a good indication of how the values in the data are spread out. \n",
    "\n",
    "Boxplots are a standardized way of displaying the distribution of data based on a five number summary:\n",
    "1. minimum value\n",
    "2. first quartile (Q1)\n",
    "3. median (Q2)\n",
    "4. third quartile (Q3)\n",
    "5. maximum value\n",
    "\n",
    "We can see these values using the `describe()` method:\n"
   ]
  },
  {
   "cell_type": "code",
   "execution_count": null,
   "metadata": {},
   "outputs": [],
   "source": [
    "# Get the summary of the info\n",
    "summary = orders['quantity'].describe()\n",
    "print(summary)"
   ]
  },
  {
   "cell_type": "code",
   "execution_count": null,
   "metadata": {},
   "outputs": [],
   "source": [
    "# Draw a boxplot for the orders['quantity'] series\n",
    "orders.boxplot('quantity')\n",
    "\n",
    "# Store the mean and median values for clarity\n",
    "meanVal = summary['mean']\n",
    "medianVal = summary['50%']\n",
    "\n",
    "# Mark the mean on the boxplot\n",
    "plt.plot(1,meanVal,'x')\n",
    "\n",
    "# Add text to show the median value\n",
    "plt.text(1.1,medianVal,f'median = {medianVal:.2f}')\n",
    "\n",
    "# Another way to add text, by annotating with an optional arrow \n",
    "plt.annotate(xy=(1,meanVal),xytext=(1.2, 4), text= f'mean = {meanVal:.2f}', arrowprops=dict(arrowstyle='simple'))\n",
    "plt.show()"
   ]
  },
  {
   "cell_type": "markdown",
   "metadata": {},
   "source": [
    "### Boxplots to compare distribution between categories\n",
    "\n",
    "The Pandas `boxplot` method allows us to visualize the distribution by categories quickly.\n",
    "This allows us to show the relationship between numerical and categorical variables. "
   ]
  },
  {
   "cell_type": "code",
   "execution_count": null,
   "metadata": {},
   "outputs": [],
   "source": [
    "# Use the kwarg by= to specify which category to search\n",
    "orders.boxplot('sales', by='sub_category',figsize=(20,6))\n",
    "plt.show()"
   ]
  },
  {
   "cell_type": "markdown",
   "metadata": {},
   "source": [
    "Let's see how else we can compare the distribution of variables."
   ]
  },
  {
   "cell_type": "markdown",
   "metadata": {},
   "source": [
    "<a id=\"scatter-plots\"></a>\n",
    "## Scatter plots: Show the relationship between two numerical variables\n",
    "---\n"
   ]
  },
  {
   "cell_type": "markdown",
   "metadata": {},
   "source": [
    "Scatter plots are very good at showing the **interaction between two numeric variables** (especially when they're continuous)!\n",
    "\n",
    "Here is an example of creating the scatter plot and setting up the columns to be used on the x- and y- axes, as well as the marker to be used, the size (s) and color (c). Alpha is used to set the transparency. \n",
    "\n",
    "You can check the different [symbols to be used for markers](https://matplotlib.org/stable/api/markers_api.html) and list of named [colors] (https://matplotlib.org/stable/gallery/color/named_colors.html)"
   ]
  },
  {
   "cell_type": "code",
   "execution_count": null,
   "metadata": {},
   "outputs": [],
   "source": [
    "# Create a scatter plot\n",
    "orders.plot(kind='scatter', x='discount', y='profit_margin', marker='*', s=50, c='blue' )\n",
    "plt.show()"
   ]
  },
  {
   "cell_type": "markdown",
   "metadata": {},
   "source": [
    "<a id=\"line-plots\"></a>\n",
    "## Line plots: Show the trend of a numerical variable over time\n",
    "---\n",
    "\n",
    "Line plots are useful for showing trends. Let's see how we can view the sales over time."
   ]
  },
  {
   "cell_type": "code",
   "execution_count": null,
   "metadata": {
    "scrolled": true
   },
   "outputs": [],
   "source": [
    "# Let's have a look at the orders again\n",
    "orders.head()"
   ]
  },
  {
   "cell_type": "markdown",
   "metadata": {},
   "source": [
    "We can create a new column to determine the month and year based on the order date. We will need the `pd.to_datetime()` to convert the `order_date` into a Python `DateTime` object, then use `dt.to_period('M')` to classify the order into the correct time period.\n",
    "\n",
    "For the time periods you can use, refer to: the [Pandas Documentation on Time Series](https://pandas.pydata.org/pandas-docs/stable/user_guide/timeseries.html#timeseries-offset-aliases)\n"
   ]
  },
  {
   "cell_type": "code",
   "execution_count": null,
   "metadata": {
    "scrolled": true
   },
   "outputs": [],
   "source": [
    "# Determine the month and year of the order based on the order date\n",
    "\n",
    "orders['order_month'] = pd.to_datetime(orders['order_date']).dt.to_period('M')\n",
    "orders[['order_date', 'order_month']].head(10)"
   ]
  },
  {
   "cell_type": "markdown",
   "metadata": {},
   "source": [
    "Now we can use `groupby` to determine the number of orders for each time period."
   ]
  },
  {
   "cell_type": "code",
   "execution_count": null,
   "metadata": {},
   "outputs": [],
   "source": [
    "# Store the value counts in a series called plot_data, sorted by the order month\n",
    "#plot_data = orders['order_month'].value_counts().sort_index()\n",
    "plot_data = orders.groupby('order_month')['order_id'].count()\n",
    "plot_data.head(12)"
   ]
  },
  {
   "cell_type": "markdown",
   "metadata": {},
   "source": [
    "#### Plotting!\n",
    "\n",
    "Now we can create the plot. The default kind of plot for a Pandas `plot()` is a line plot, so we can just call `plot()` on the `plot_data` that we have set up."
   ]
  },
  {
   "cell_type": "code",
   "execution_count": null,
   "metadata": {},
   "outputs": [],
   "source": [
    "# Use default plot method to create a line plot - the axis tick labels are automatically set for the series. \n",
    "plot_data.plot(c='Blue', figsize=(10,5))\n",
    "plt.title('Orders have been steadily increasing')\n",
    "plt.xlabel('Order Month')\n",
    "plt.legend(['Number of Orders'])\n",
    "\n",
    "# Save the file\n",
    "plt.savefig('Orders_by_month.png')\n",
    "plt.show()"
   ]
  },
  {
   "cell_type": "markdown",
   "metadata": {},
   "source": [
    "#### Plotting with multiple groupby levels\n",
    "\n",
    "Using Groupby, we can also calculate the aggregate by multiple categories.\n"
   ]
  },
  {
   "cell_type": "code",
   "execution_count": null,
   "metadata": {},
   "outputs": [],
   "source": [
    "# Obtain the mean sales value by order month and product category\n",
    "plot_data = orders.groupby(['order_month','category'])['sales'].mean().unstack()\n",
    "plot_data.head()"
   ]
  },
  {
   "cell_type": "code",
   "execution_count": null,
   "metadata": {},
   "outputs": [],
   "source": [
    "# Plot the grouped-by data frame \n",
    "plot_data.plot()\n",
    "plt.title('Mean Sales by Category')\n",
    "plt.legend(['Furniture','Office Supplies','Technology'])\n",
    "plt.show()"
   ]
  },
  {
   "cell_type": "code",
   "execution_count": null,
   "metadata": {},
   "outputs": [],
   "source": [
    "# Using subplots to show on separate plots\n",
    "# Notice the y axis tick labels are different\n",
    "plot_data.plot(subplots=True, sharex=False)\n",
    "\n",
    "# where does the title go?\n",
    "plt.title('Mean Sales')\n",
    "plt.show()\n"
   ]
  },
  {
   "cell_type": "code",
   "execution_count": null,
   "metadata": {},
   "outputs": [],
   "source": [
    "# Using subplots to show on separate plots\n",
    "# Make the title and y-limits the same for comparison\n",
    "plot_data.plot(subplots=True, title='Mean Sales by Category', ylim=(0,1000))\n",
    "plt.show()\n"
   ]
  },
  {
   "cell_type": "markdown",
   "metadata": {},
   "source": [
    "### Knowledge Check <img src=\"http://cdn.shopify.com/s/files/1/1061/1924/products/Up_Pointing_Hand_Emoji_grande.png?v=1480481048\" width=\"30px\" align=\"left\">\n",
    "\n",
    "Why does it make sense to use a line plot for these visualizations? "
   ]
  },
  {
   "cell_type": "markdown",
   "metadata": {},
   "source": [
    "<a id=\"bar-plots\"></a>\n",
    "## Bar Plots: Show a numerical comparison across different categories\n",
    "---\n",
    "\n",
    "Let's try to find the total sales for each sub category of orders.\n",
    "This means we have to perform a `groupby()` to aggregate the data on the column first. "
   ]
  },
  {
   "cell_type": "code",
   "execution_count": null,
   "metadata": {},
   "outputs": [],
   "source": [
    "# Find total sales for each sub category\n",
    "plot_data = orders.groupby('sub_category')['sales'].sum()\n",
    "plot_data"
   ]
  },
  {
   "cell_type": "code",
   "execution_count": null,
   "metadata": {},
   "outputs": [],
   "source": [
    "# Plot the total sales\n",
    "plot_data.plot(kind='bar')"
   ]
  },
  {
   "cell_type": "code",
   "execution_count": null,
   "metadata": {},
   "outputs": [],
   "source": [
    "sorted = plot_data.sort_values(ascending=True)\n",
    "sorted.plot(kind='barh')\n",
    "plt.title('Total Sales By Sub Category')\n",
    "plt.ylabel('')\n",
    "plt.show()"
   ]
  },
  {
   "cell_type": "markdown",
   "metadata": {},
   "source": [
    "#### Quick Exercise\n",
    "\n",
    "Print the 5 highest sales values by subcategory as a horizontal bar plot with blue bars."
   ]
  },
  {
   "cell_type": "code",
   "execution_count": null,
   "metadata": {},
   "outputs": [],
   "source": [
    "# print 5 hightest sales values \n",
    "sorted.tail(5).plot(kind='barh', title='Top 5 highest sales', color=\"blue\")    \n",
    "plt.show()\n",
    "# because it was ascending=True so ordered from lowest to highest"
   ]
  },
  {
   "cell_type": "markdown",
   "metadata": {},
   "source": [
    "#### Comparing Multiple Categories\n",
    "\n",
    "A bar chart is also useful for comparing values for multiple categories. \n",
    "For example, we could compare the mean profit of each `category` by `ship_mode`\n"
   ]
  },
  {
   "cell_type": "code",
   "execution_count": null,
   "metadata": {},
   "outputs": [],
   "source": [
    "# Group the orders by category, then ship mode\n",
    "plot_data = orders.groupby(['category','ship_mode'])['profit'].mean().unstack()\n",
    "plot_data"
   ]
  },
  {
   "cell_type": "code",
   "execution_count": null,
   "metadata": {},
   "outputs": [],
   "source": [
    "plot_data.plot(kind='bar')\n",
    "plt.title('Mean Profit by Ship Mode')"
   ]
  },
  {
   "cell_type": "markdown",
   "metadata": {},
   "source": [
    "#### Stacked Bar Plot\n",
    "\n",
    "We can use the parameter `stacked=True` to create a stacked bar plot to show the totals by category."
   ]
  },
  {
   "cell_type": "code",
   "execution_count": null,
   "metadata": {},
   "outputs": [],
   "source": [
    "# Viewing the total profit\n",
    "plot_data = orders.groupby(['category','ship_mode'])['profit'].sum().unstack()\n",
    "\n",
    "# For sum it is more meaningful when stacked\n",
    "plot_data.plot(kind='barh', stacked=True)\n",
    "plt.title('Total Profit For Products')\n",
    "plt.ylabel('')\n",
    "plt.show()"
   ]
  },
  {
   "cell_type": "markdown",
   "metadata": {},
   "source": [
    "<a id=\"summary\"></a>\n",
    "### Summary\n",
    "\n",
    "In this lesson, we showed examples of how to create a variety of plots using Pandas and Matplotlib. We also showed how to use each plot to effectively display data.\n",
    "\n",
    "Do not be concerned if you do not remember everything — this will come with practice! Although there are many plot styles, many similarities exist between how each plot is drawn. For example, they have most parameters in common, and the same Matplotlib functions are used to modify the plot area.\n",
    "\n",
    "We looked at:\n",
    "- Histograms: for visualizing distributions of numerical variables\n",
    "- Box plots: for comparing distributions across categorical variables\n",
    "- Scatter plots: for analysing relationships between numerical variables\n",
    "- Line plots: suitable for plotting trends over time\n",
    "- Bar plots: for comparing categorical variables\n"
   ]
  },
  {
   "cell_type": "markdown",
   "metadata": {},
   "source": [
    "#### Homework and Review\n",
    "\n",
    "Let's try to use the `returned_orders.csv` file that we created in the previous homework.\n",
    "\n",
    "Q1. Read in the file into a DataFrame called `returns`."
   ]
  },
  {
   "cell_type": "code",
   "execution_count": null,
   "metadata": {},
   "outputs": [],
   "source": [
    "# Q1 Answer\n"
   ]
  },
  {
   "cell_type": "markdown",
   "metadata": {},
   "source": [
    "Q2. Create a new column `quarter` that determimes the quarter that the order was placed based on the `order_date`. (The offset to use is 'Q')"
   ]
  },
  {
   "cell_type": "code",
   "execution_count": null,
   "metadata": {},
   "outputs": [],
   "source": [
    " # Q2 Determine the quarter of the order based on the order date\n"
   ]
  },
  {
   "cell_type": "markdown",
   "metadata": {},
   "source": [
    "Q3. Create a line plot to compare the number of orders that have `returned == 'Yes'` and those with `returned == 'No'`, by quarter.\n",
    "Hint: group by quarter, then returned."
   ]
  },
  {
   "cell_type": "code",
   "execution_count": null,
   "metadata": {},
   "outputs": [],
   "source": [
    "#Q3 Answer"
   ]
  },
  {
   "cell_type": "markdown",
   "metadata": {},
   "source": [
    "Q4. Create subplots with bar plots to compare the total sales values of orders that were returned vs not returned by each `margin_category`. "
   ]
  },
  {
   "cell_type": "code",
   "execution_count": null,
   "metadata": {},
   "outputs": [],
   "source": [
    "# Q4 Answer\n"
   ]
  },
  {
   "cell_type": "markdown",
   "metadata": {},
   "source": [
    "Q5. What other plots would you like to create to analyse returns? Explain and try to plot it. \n"
   ]
  },
  {
   "cell_type": "code",
   "execution_count": null,
   "metadata": {},
   "outputs": [],
   "source": [
    "# Q5 Answer"
   ]
  }
 ],
 "metadata": {
  "kernelspec": {
   "display_name": "Python 3 (ipykernel)",
   "language": "python",
   "name": "python3"
  },
  "language_info": {
   "codemirror_mode": {
    "name": "ipython",
    "version": 3
   },
   "file_extension": ".py",
   "mimetype": "text/x-python",
   "name": "python",
   "nbconvert_exporter": "python",
   "pygments_lexer": "ipython3",
   "version": "3.9.7"
  }
 },
 "nbformat": 4,
 "nbformat_minor": 2
}
