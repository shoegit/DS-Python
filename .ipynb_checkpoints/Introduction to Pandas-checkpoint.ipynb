{
 "cells": [
  {
   "cell_type": "markdown",
   "id": "e7d4bb22",
   "metadata": {},
   "source": [
    "<img src=\"http://imgur.com/1ZcRyrc.png\" style=\"float: left; margin: 20px; height: 55px\">\n",
    "\n",
    "## Introduction to `pandas`\n",
    "\n",
    "_Authors: Tim Book, Ng Shu Min_\n",
    "\n",
    "---\n",
    "\n",
    "`pandas` is the most popular python package for managing datasets and is used extensively by data scientists.\n",
    "\n",
    "### Learning Objectives\n",
    "\n",
    "- Define the anatomy of DataFrames.\n",
    "- Explore data with DataFrames.\n"
   ]
  },
  {
   "cell_type": "markdown",
   "id": "c2f9c39a",
   "metadata": {},
   "source": [
    "### Lesson Guide\n",
    "\n",
    "- What is `pandas`?\n",
    "- Reading data\n",
    "- Exploring data\n",
    "    - Filtering\n",
    "    - Sorting\n"
   ]
  },
  {
   "cell_type": "markdown",
   "id": "04021806",
   "metadata": {},
   "source": [
    "<a id='introduction'></a>\n",
    "\n",
    "### What is `pandas`?\n",
    "\n",
    "---\n",
    "\n",
    "- Data analysis library - **Panel data system** (doesn't actually have to do with the animal, sorry).\n",
    "- Created by Wes McKinney and Open Sourced by AQR Capital Management, LLC 2009.\n",
    "- Implemented in highly optimized Python/Cython.\n",
    "- Most ubiquitous tool used to start data analysis projects within the Python scientific ecosystem.\n",
    "\n"
   ]
  },
  {
   "cell_type": "markdown",
   "id": "4f9c4f8d",
   "metadata": {},
   "source": [
    "## Importing the Dynamic Trio\n",
    "From here on out, we'll begin pretty much all of our notebooks with the following three imports.\n",
    "\n",
    "* **pandas**: The library we'll be using to do pretty much all data manipulation.\n",
    "* **numpy**: The library we'll need to do various other computations. Even if you don't think you'll need it to start, you'll probably end up using it later.\n",
    "* **matplotlib**: The library we'll use most for plotting. More on this another day.\n",
    "\n",
    "\n",
    "To [import a library](https://docs.python.org/3/reference/import.html), we write `import` and the library name. For Pandas, is it common to name the library `pd` so that when we reference a function from the Pandas library, we only write `pd` to reference the aliased [namespace](https://docs.python.org/3/tutorial/classes.html#python-scopes-and-namespaces) -- not `pandas`.\n",
    "\n",
    "Similarly we will use `np` for numpy and `plt` for the `pyplot` module in `matplotlib`"
   ]
  },
  {
   "cell_type": "code",
   "execution_count": null,
   "id": "f878c8ec",
   "metadata": {},
   "outputs": [],
   "source": [
    "import numpy as np\n",
    "import pandas as pd\n",
    "import matplotlib.pyplot as plt"
   ]
  },
  {
   "cell_type": "markdown",
   "id": "b86c384f",
   "metadata": {},
   "source": [
    "<a id='loading_csvs'></a>\n",
    "\n",
    "### Loading a csv into a DataFrame\n",
    "\n",
    "---\n",
    "\n",
    "Pandas can load many types of files, but one of the most common filetypes for storing data is in a `.csv` file. Let's load a dataset on UFO sightings from the `./datasets` directory:"
   ]
  },
  {
   "cell_type": "code",
   "execution_count": null,
   "id": "b07fbe94",
   "metadata": {},
   "outputs": [],
   "source": [
    "ufo = pd.read_csv('datasets/ufo.csv')"
   ]
  },
  {
   "cell_type": "code",
   "execution_count": null,
   "id": "015f57f3",
   "metadata": {},
   "outputs": [],
   "source": [
    "# check the type of what we have read in\n",
    "type(ufo)"
   ]
  },
  {
   "cell_type": "markdown",
   "id": "070be13e",
   "metadata": {},
   "source": [
    "This creates a pandas object called a **DataFrame**. These are powerful containers for data with many built-in functions to explore and manipulate data.\n",
    "\n",
    "We will barely scratch the surface of DataFrame functionality in this lesson, but over the course of this class you will become an expert at using them."
   ]
  },
  {
   "cell_type": "markdown",
   "id": "f8e51d11",
   "metadata": {},
   "source": [
    "<a id='exploring_data'></a>\n",
    "\n",
    "## Exploratory Data Analysis (EDA) with Python!\n",
    "\n",
    "---\n",
    "\n",
    "DataFrames come with built-in functionality that makes data exploration easy. \n",
    "\n",
    "Let's start by looking at the \"head\" of your data with the `.head()` built-in function. If run alone in a notebook cell, it will show you the first and last handful of columns and the first 5 rows."
   ]
  },
  {
   "cell_type": "code",
   "execution_count": null,
   "id": "c13c68b6",
   "metadata": {},
   "outputs": [],
   "source": []
  },
  {
   "cell_type": "markdown",
   "id": "42c43a2c",
   "metadata": {},
   "source": [
    "If we want to see the last part of our data, we can equivalently use the ```.tail()``` function."
   ]
  },
  {
   "cell_type": "markdown",
   "id": "2e8827a3",
   "metadata": {},
   "source": [
    "We can specify the number of rows we want to see by adding an argument, for example to view 10 rows, use  ```.tail(10)```"
   ]
  },
  {
   "cell_type": "code",
   "execution_count": null,
   "id": "645d849a",
   "metadata": {},
   "outputs": [],
   "source": []
  },
  {
   "cell_type": "markdown",
   "id": "f59abe04",
   "metadata": {},
   "source": [
    "<a id='data_dimensions'></a>\n",
    "\n",
    "### Data dimensions\n",
    "\n",
    "---\n",
    "\n",
    "It's good to look at what the dimensions of your data are. The ```.shape``` property will tell you the rows and colum counts of your DataFrame."
   ]
  },
  {
   "cell_type": "code",
   "execution_count": null,
   "id": "4b64128f",
   "metadata": {},
   "outputs": [],
   "source": []
  },
  {
   "cell_type": "markdown",
   "id": "caf10376",
   "metadata": {},
   "source": [
    "You will notice that this is operates the same as `.shape` for numpy arrays/matricies. Pandas makes use of numpy under the hood for optimization and speed.\n",
    "\n",
    "Look at the names of your columns with the ```.columns``` property."
   ]
  },
  {
   "cell_type": "code",
   "execution_count": null,
   "id": "aabc8943",
   "metadata": {},
   "outputs": [],
   "source": []
  },
  {
   "cell_type": "markdown",
   "id": "c7cc42bf",
   "metadata": {},
   "source": [
    "## Selecting a Column\n",
    "\n",
    "We can select columns in two ways. Either we treat the column as an attribute of the DataFrame or we index the DataFrame for a specific element (in this case, the element is a column name).\n",
    "\n",
    "#### Column as an Attribute\n",
    "\n",
    "You can use the bracket syntax just like python dictionaries with the string name of the column to extract that column.Treating the column as an attribute returns a Series of values. \n",
    "\n",
    "To refer to a specific column, you can use the column name as a string in the square brackets. \n"
   ]
  },
  {
   "cell_type": "code",
   "execution_count": null,
   "id": "30e67dc9",
   "metadata": {},
   "outputs": [],
   "source": [
    "\n"
   ]
  },
  {
   "cell_type": "markdown",
   "id": "c39cd1a5",
   "metadata": {},
   "source": [
    "You can use either single quotes or double quotes in Python to refer to a String."
   ]
  },
  {
   "cell_type": "code",
   "execution_count": null,
   "id": "5b6ccc21",
   "metadata": {},
   "outputs": [],
   "source": []
  },
  {
   "cell_type": "markdown",
   "id": "fa00a96d",
   "metadata": {},
   "source": [
    "We can also use the ```.head()``` function on a single column, which is represented as a pandas Series object."
   ]
  },
  {
   "cell_type": "code",
   "execution_count": null,
   "id": "049baf86",
   "metadata": {},
   "outputs": [],
   "source": []
  },
  {
   "cell_type": "markdown",
   "id": "66e864ac",
   "metadata": {},
   "source": [
    "You can also access the column of a DataFrame by using the column name as the propery, but only if it matches Python's variable name rules.\n"
   ]
  },
  {
   "cell_type": "code",
   "execution_count": null,
   "id": "cd840031",
   "metadata": {},
   "outputs": [],
   "source": [
    "# Try to refrain from doing this...\n",
    "# Why shouldn't you rely on this? (There are several good reasons).\n"
   ]
  },
  {
   "cell_type": "markdown",
   "id": "8fd155a0",
   "metadata": {},
   "source": [
    "#### Indexing the Dataframe\n",
    "\n",
    "Indexing the DataFrame means we want to access specific columns. In this case we use a *list* of the column names in the brackets to specify the columns that we want.\n",
    "\n"
   ]
  },
  {
   "cell_type": "code",
   "execution_count": null,
   "id": "4485d273",
   "metadata": {},
   "outputs": [],
   "source": [
    "# Select two columns in a list to index the DataFrame\n"
   ]
  },
  {
   "attachments": {
    "series-vs-df.png": {
     "image/png": "[encoded data removed]"
    }
   },
   "cell_type": "markdown",
   "id": "0a36e03e",
   "metadata": {},
   "source": [
    "<a id='dataframe_series'></a>\n",
    "\n",
    "### DataFrame vs. Series\n",
    "\n",
    "---\n",
    "\n",
    "We've been playing with them, so I guess we should define them formally:\n",
    "\n",
    "* A **`Series`** is a one-dimensional array of values **with an index**.\n",
    "* A **`DataFrame`** is a two-dimensional array of values **with both a row and column index**.\n",
    "* It turns out - each column of a `DataFrame` is actually a `Series`!\n",
    "![series-vs-df.png](attachment:series-vs-df.png)\n",
    "\n",
    "\n",
    "There is an important difference between using a list of strings and just a string with a column's name: when you use a list with the string it returns another **DataFrame**, but when you use just the string it returns a pandas **Series** object."
   ]
  },
  {
   "cell_type": "code",
   "execution_count": null,
   "id": "a1ab081a",
   "metadata": {},
   "outputs": [],
   "source": [
    "print(type(ufo['City']))\n",
    "print(type(ufo[['City']]))"
   ]
  },
  {
   "cell_type": "code",
   "execution_count": null,
   "id": "5175474e",
   "metadata": {},
   "outputs": [],
   "source": [
    "# Let's have a look at what is returned to see the difference\n",
    "# ufo['City']\n",
    "# ufo[['City']]"
   ]
  },
  {
   "cell_type": "markdown",
   "id": "7c7be168",
   "metadata": {},
   "source": [
    "<a id='info'></a>\n",
    "\n",
    "### Examining your data with `.info()`\n",
    "\n",
    "---\n",
    "\n",
    "The `.info()` should be the first thing you look at when getting acquainted with a new dataset.\n",
    "\n",
    "**Types** are very important.  They impact the way data will be represented in our machine learning models, how data can be joined, whether or not math operators can be applied, and when you can encounter unexpected results.\n",
    "\n",
    "> _Typical problems when working with new datasets_:\n",
    "> - Missing values\n",
    "> - Unexpected types (string/object instead of int/float)\n",
    "> - Dirty data (commas, dollar signs, unexpected characters, etc)\n",
    "> - Blank values that are actually \"non-null\" or single white-space characters\n",
    "\n",
    "`.info()` is a function that is available on every **DataFrame** object. It gives you information about:\n",
    "\n",
    "- Name of column / variable attribute\n",
    "- Type of index (RangeIndex is default)\n",
    "- Count of non-null values by column / attribute\n",
    "- Type of data contained in column / attribute\n",
    "- Unqiue counts of dtypes (Pandas data types)\n",
    "- Memory usage of our dataset\n"
   ]
  },
  {
   "cell_type": "code",
   "execution_count": null,
   "id": "f1fa51c7",
   "metadata": {},
   "outputs": [],
   "source": []
  },
  {
   "cell_type": "markdown",
   "id": "d861d3f5",
   "metadata": {},
   "source": [
    "The `dtypes` property also helps us examine the data types of each of the columns. These data types were automatically inferred by `pandas` when reading in the data set. "
   ]
  },
  {
   "cell_type": "code",
   "execution_count": null,
   "id": "31a23984",
   "metadata": {},
   "outputs": [],
   "source": []
  },
  {
   "cell_type": "markdown",
   "id": "95096fe3",
   "metadata": {},
   "source": [
    "<a id='describe'></a>\n",
    "\n",
    "## Quick Summaries\n",
    "\n",
    "---\n",
    "\n",
    "The `.describe()` function is very useful for taking a quick look at your data. It gives you some of the basic descriptive statistics.\n",
    "\n",
    "\n"
   ]
  },
  {
   "cell_type": "code",
   "execution_count": null,
   "id": "4da6897f",
   "metadata": {},
   "outputs": [],
   "source": [
    "# Let's read in the diamonds data set and check the first few rows\n",
    "diamonds = pd.read_csv('datasets/diamonds.csv')\n",
    "diamonds.head()"
   ]
  },
  {
   "cell_type": "code",
   "execution_count": null,
   "id": "edb009bb",
   "metadata": {},
   "outputs": [],
   "source": [
    "# Let's describe the price\n"
   ]
  },
  {
   "cell_type": "code",
   "execution_count": null,
   "id": "ea5e6c5c",
   "metadata": {},
   "outputs": [],
   "source": [
    "# We can even do it to the whole DataFrame - what does that look like?\n",
    "# What's missing?\n"
   ]
  },
  {
   "cell_type": "markdown",
   "id": "db45d9d3",
   "metadata": {},
   "source": [
    "You can use `.value_counts()` to get a good tabular view of a categorical variable."
   ]
  },
  {
   "cell_type": "code",
   "execution_count": null,
   "id": "82143c49",
   "metadata": {},
   "outputs": [],
   "source": [
    "# Let's count up the cuts\n"
   ]
  },
  {
   "cell_type": "code",
   "execution_count": null,
   "id": "84bf5017",
   "metadata": {},
   "outputs": [],
   "source": [
    "# Let's do the same thing, but normalized (out of 100%)"
   ]
  },
  {
   "cell_type": "code",
   "execution_count": null,
   "id": "f67e9e8e",
   "metadata": {},
   "outputs": [],
   "source": []
  },
  {
   "cell_type": "markdown",
   "id": "566f99cf",
   "metadata": {},
   "source": [
    "We can use `unique()` and `nunique()` to determine the unique values and the number of these unique values for categorical variables."
   ]
  },
  {
   "cell_type": "code",
   "execution_count": null,
   "id": "7cb18e7a",
   "metadata": {},
   "outputs": [],
   "source": []
  },
  {
   "cell_type": "code",
   "execution_count": null,
   "id": "505855aa",
   "metadata": {},
   "outputs": [],
   "source": []
  },
  {
   "cell_type": "markdown",
   "id": "d13b6580",
   "metadata": {},
   "source": [
    "```.describe()``` gives us these statistics:\n",
    "\n",
    "- **count**, which is equivalent to the number of cells (rows)\n",
    "- **mean**, the average of the values in the column\n",
    "- **std**, which is the standard deviation\n",
    "- **min**, the minimum value\n",
    "- **25%**, the 25th percentile of the values \n",
    "- **50%**, the 50th percentile of the values, which is the equivalent to the median\n",
    "- **75%**, the 75th percentile of the values\n",
    "- **max**, the maximum value"
   ]
  },
  {
   "cell_type": "markdown",
   "id": "73b97255",
   "metadata": {},
   "source": [
    "There are built-in math functions that will work on all of the columns of a DataFrame at once, or subsets of the data.\n",
    "\n",
    "I can use the `.mean()` function on the `ufo` DataFrame to get the mean for every column."
   ]
  },
  {
   "cell_type": "code",
   "execution_count": null,
   "id": "6d7a0bcb",
   "metadata": {},
   "outputs": [],
   "source": []
  },
  {
   "cell_type": "code",
   "execution_count": null,
   "id": "5035fe0f",
   "metadata": {},
   "outputs": [],
   "source": [
    "# Find the median"
   ]
  },
  {
   "cell_type": "code",
   "execution_count": null,
   "id": "89fa47ef",
   "metadata": {},
   "outputs": [],
   "source": [
    "# find specific quantiles\n",
    "diamonds['price'].quantile([0.25, 0.75])"
   ]
  },
  {
   "cell_type": "markdown",
   "id": "27e8b976",
   "metadata": {},
   "source": [
    "<a id='independent_practice'></a>\n",
    "\n",
    "### Now you!\n",
    "\n",
    "---\n",
    "\n",
    "Now that we know a little bit about basic DataFrame use, let's practice on a new dataset.\n",
    "\n",
    "> Pro tip:  You can use the \"tab\" key to browse filesystem resources when your cursor is in a string to get a relative reference to the files that can be loaded in Jupyter notebook.  Remember, you have to use your arrow keys to navigate the files populated in the UI. \n",
    "\n",
    "<img src=\"https://snag.gy/IlLNm9.jpg\">\n",
    "\n",
    "1. Read in the `cars.csv` dataset. (call it `cars`)\n",
    "1. What is the mean `mpg` for cars in this dataset?"
   ]
  },
  {
   "cell_type": "code",
   "execution_count": null,
   "id": "497b5efd",
   "metadata": {},
   "outputs": [],
   "source": []
  },
  {
   "cell_type": "markdown",
   "id": "bdc1a836",
   "metadata": {},
   "source": [
    "## Filtering a Dataset\n",
    "\n",
    "Filtering and sorting are key processes that allow us to drill into the 'nitty gritty' and cross sections of our dataset.\n",
    "\n",
    "Consider the `diamonds` dataset:"
   ]
  },
  {
   "cell_type": "code",
   "execution_count": null,
   "id": "9598520e",
   "metadata": {},
   "outputs": [],
   "source": []
  },
  {
   "cell_type": "markdown",
   "id": "120bc731",
   "metadata": {},
   "source": [
    "\n",
    "To filter, we use a process called **Boolean Filtering**, wherein we define a Boolean condition, and use that Boolean condition as a **mask** to filter on our DataFrame."
   ]
  },
  {
   "cell_type": "code",
   "execution_count": null,
   "id": "bae6fe39",
   "metadata": {},
   "outputs": [],
   "source": [
    "# which rows have carat value > 0.50? \n"
   ]
  },
  {
   "cell_type": "markdown",
   "id": "ca34e43f",
   "metadata": {},
   "source": [
    "Now we can use that 'mask' from above, and apply it to our full dataframe. Every time we have a `True` in a row, we return the row. If we have a `False` in that row, we do not return it. The result is a dataframe that only has rows where the mask had a value of `True`."
   ]
  },
  {
   "cell_type": "code",
   "execution_count": null,
   "id": "e53f4df3",
   "metadata": {},
   "outputs": [],
   "source": []
  },
  {
   "cell_type": "markdown",
   "id": "71e8f59a",
   "metadata": {},
   "source": [
    "### Quick Exercise\n",
    "\n",
    "Let's calculate the **mean carat weight** for diamonds with `cut` **Premium**\n",
    "> Think: What are the component parts of this problem?"
   ]
  },
  {
   "cell_type": "code",
   "execution_count": null,
   "id": "bda934d2",
   "metadata": {},
   "outputs": [],
   "source": [
    "# First find the diamonds where the cut == 'Premium'\n",
    "# Then select the 'carat' column as a series\n",
    "# Finally, find the mean\n"
   ]
  },
  {
   "cell_type": "markdown",
   "id": "f7c3b45b",
   "metadata": {},
   "source": [
    "## Filtering on Multiple Conditions\n",
    "\n",
    "We can also filter on _multiple conditions_. \n",
    "The format for multiple conditions is:\n",
    "\n",
    "`df[ (df['col1'] == value1) & (df['col2'] == value2) ]`\n",
    "\n",
    "Or, more simply:\n",
    "\n",
    "`df[ (CONDITION 1) & (CONDITION 2) ]`\n",
    "\n",
    "Which eventually may evaluate to something like:\n",
    "\n",
    "`df[ True & False ]`\n",
    "\n",
    "...on a row-by-row basis. If the end result is `False`, the row is omitted.\n",
    "\n",
    "_Don't forget parentheses in your conditions!_ This is a common mistake."
   ]
  },
  {
   "cell_type": "code",
   "execution_count": null,
   "id": "8d94e9a1",
   "metadata": {},
   "outputs": [],
   "source": [
    "# Before, we filtered on rows where the cut was 'Premium'. We also filtered where carat weight was more than 0.50. \n",
    "# Let's see what happens when we filter on *both* simultaneously.\n",
    "# Find all diamonds where the cut is Premium AND the carat weight is greater than 0.50\n",
    "# \"And\" logic - use ampersand (&)\n",
    "# Note parentheses mandatory!\n"
   ]
  },
  {
   "cell_type": "code",
   "execution_count": null,
   "id": "05e5ee14",
   "metadata": {},
   "outputs": [],
   "source": [
    "# What about diamonds where the cut is Premium OR the carat weight is greater than 0.50?\n",
    "# \"Or\" logic - use pipe (|)"
   ]
  },
  {
   "cell_type": "markdown",
   "id": "d02f2afd",
   "metadata": {},
   "source": [
    "## Quick Exercise\n",
    "\n",
    "Find all the ufo sightings in Hollywood, CA. \n"
   ]
  },
  {
   "cell_type": "code",
   "execution_count": null,
   "id": "e11f50d4",
   "metadata": {},
   "outputs": [],
   "source": []
  },
  {
   "cell_type": "markdown",
   "id": "ed0ddb27",
   "metadata": {},
   "source": [
    "#### Other useful functions for filtering"
   ]
  },
  {
   "cell_type": "code",
   "execution_count": null,
   "id": "ec6811ee",
   "metadata": {},
   "outputs": [],
   "source": [
    "cars[cars['mpg'].between(24, 30)]"
   ]
  },
  {
   "cell_type": "code",
   "execution_count": null,
   "id": "3a6ec769",
   "metadata": {},
   "outputs": [],
   "source": [
    "cars[~cars['mpg'].between(14, 31)]"
   ]
  },
  {
   "cell_type": "code",
   "execution_count": null,
   "id": "47f26d19",
   "metadata": {},
   "outputs": [],
   "source": [
    "ufo[ufo['City'].isin(['Towaco', 'Montville'])]"
   ]
  },
  {
   "cell_type": "markdown",
   "id": "2aad19e4",
   "metadata": {},
   "source": [
    "<a id='indexing'></a>\n",
    "\n",
    "## Pandas Indexing: `.loc` and `.iloc`\n",
    "\n",
    "---\n",
    "\n",
    "So far we've learned how to select both rows and columns. The savvy and skeptical student would have noticed a problem here. We have ambiguous notation! What does this do:\n",
    "\n",
    "```python\n",
    "data[something]\n",
    "```\n",
    "\n",
    "We can't tell! Is `something` a mask or a string? One selects rows, the other selects columns. \n"
   ]
  },
  {
   "cell_type": "code",
   "execution_count": null,
   "id": "d3e18409",
   "metadata": {},
   "outputs": [],
   "source": [
    "# indexing by selecting columns\n",
    "diamonds[['carat','price']]"
   ]
  },
  {
   "cell_type": "code",
   "execution_count": null,
   "id": "1fa5f135",
   "metadata": {},
   "outputs": [],
   "source": [
    "# using boolean mask to select rows\n",
    "diamonds[diamonds['cut']=='Premium']"
   ]
  },
  {
   "cell_type": "markdown",
   "id": "790b1146",
   "metadata": {},
   "source": [
    "**What if we wanted to filter rows and select columns at the same time?!**\n",
    "\n",
    "Pandas has two properties that you can use for indexing:\n",
    "\n",
    "- **`.loc`** indexes with the _labels_ for rows and columns axis.\n",
    "- **`.iloc`** indexes with the _integer positions_ for rows and columns axis.\n",
    "> There used to be a third, `.ix` which is now deprecated and shan't ever be used again."
   ]
  },
  {
   "cell_type": "markdown",
   "id": "f353fc11",
   "metadata": {},
   "source": [
    "## `.loc` is Most Common\n",
    "The syntax of `.loc` is pretty intuitive:\n",
    "\n",
    "```python\n",
    "data.loc[rows, columns]\n",
    "```\n",
    "\n",
    "Where `rows` is often a filter (ie, a **mask**), and `columns` is a list of columns, or even just `:` to select all columns."
   ]
  },
  {
   "cell_type": "code",
   "execution_count": null,
   "id": "bab8cc2b",
   "metadata": {},
   "outputs": [],
   "source": [
    "# Choose rows with Premium cut and show only the carat and price\n",
    "diamonds.loc[diamonds['cut']=='Premium', ['carat','price']]"
   ]
  },
  {
   "cell_type": "code",
   "execution_count": null,
   "id": "b786a4d6",
   "metadata": {},
   "outputs": [],
   "source": [
    "# Select all columns \n",
    "# What is this similar to?\n",
    "diamonds.loc[diamonds['cut']=='Premium', :]"
   ]
  },
  {
   "cell_type": "code",
   "execution_count": null,
   "id": "466d818d",
   "metadata": {},
   "outputs": [],
   "source": [
    "diamonds.loc[:, ['carat', 'cut']]"
   ]
  },
  {
   "cell_type": "markdown",
   "id": "b407854a",
   "metadata": {},
   "source": [
    "### Acccctually.....\n",
    "\n",
    "You can see that using : to select all columns or rows is similar to using the boolean mask or indexing by column.\n",
    "\n",
    "According to **_The Zen of Python_**, explicit is better than implicit. `.loc` is explicit. **Most people choose to always use `.loc` instead of the ambiguous `data[something]` notation! This is a pretty good idea! When in doubt, use `.loc`!**"
   ]
  },
  {
   "cell_type": "markdown",
   "id": "5e19010a",
   "metadata": {},
   "source": [
    "### `.iloc` is rare, but useful\n",
    "The `i` stands for \"integer\" and will give you the actual zero-indexed numerical indices.\n",
    "\n",
    "Remember that Python list indexing using **_start:stop:step_** will use the element with index _start_, until just before _stop_ with each _step_ between the _start_ and _stop_"
   ]
  },
  {
   "cell_type": "code",
   "execution_count": null,
   "id": "d56b4fc2",
   "metadata": {},
   "outputs": [],
   "source": [
    "cars.head()"
   ]
  },
  {
   "cell_type": "code",
   "execution_count": null,
   "id": "4500917d",
   "metadata": {},
   "outputs": [],
   "source": [
    "# Selecting rows 0 to 2 and all alternating columns\n",
    "cars.iloc[:3, ::2]"
   ]
  },
  {
   "cell_type": "code",
   "execution_count": null,
   "id": "da557f67",
   "metadata": {},
   "outputs": [],
   "source": [
    "# Selecting rows 0 to 2 and columns 3 to 5\n",
    "cars.iloc[:3, 3:6]"
   ]
  },
  {
   "cell_type": "markdown",
   "id": "25e52876",
   "metadata": {},
   "source": [
    "## Sorting"
   ]
  },
  {
   "cell_type": "code",
   "execution_count": null,
   "id": "493acad8",
   "metadata": {},
   "outputs": [],
   "source": [
    "# We can sort individual Series...\n",
    "cars['mpg'].sort_values().head()"
   ]
  },
  {
   "cell_type": "code",
   "execution_count": null,
   "id": "b0c4add1",
   "metadata": {},
   "outputs": [],
   "source": [
    "cars['mpg'].sort_values(ascending=False).head()"
   ]
  },
  {
   "cell_type": "code",
   "execution_count": null,
   "id": "7d9b2989",
   "metadata": {},
   "outputs": [],
   "source": [
    "# Or the entire DataFrame by the specific column\n",
    "cars.sort_values('mpg').head()"
   ]
  },
  {
   "cell_type": "code",
   "execution_count": null,
   "id": "6ee0b8df",
   "metadata": {},
   "outputs": [],
   "source": [
    "# Or the entire DataFrame by more than one column using lists\n",
    "# cars.sort_values(by=??? , ascending=??? ).head()"
   ]
  },
  {
   "cell_type": "markdown",
   "id": "570cdf28",
   "metadata": {},
   "source": [
    "## Another quick exercise\n",
    "\n",
    "Can you find the 5 most recent ufo sightings in Roswell, New Mexico (NM)? \n",
    "First we will convert the `Time` column into a `datetime` object."
   ]
  },
  {
   "cell_type": "code",
   "execution_count": null,
   "id": "e87b0cf7",
   "metadata": {},
   "outputs": [],
   "source": [
    "ufo.Time = pd.to_datetime(ufo.Time)"
   ]
  },
  {
   "cell_type": "code",
   "execution_count": null,
   "id": "62ce2b0e",
   "metadata": {},
   "outputs": [],
   "source": [
    "# check the ufo data types\n",
    "ufo.dtypes"
   ]
  },
  {
   "cell_type": "code",
   "execution_count": null,
   "id": "8ef9cae6",
   "metadata": {},
   "outputs": [],
   "source": []
  },
  {
   "cell_type": "code",
   "execution_count": null,
   "id": "3a641975",
   "metadata": {},
   "outputs": [],
   "source": [
    "# Give me the 5 most recent UFO sightings in Roswell, New Mexico (NM).\n",
    "# You'll need to filter and use .sort_values()\n",
    "# This is a hard one!\n"
   ]
  },
  {
   "cell_type": "markdown",
   "id": "ad078ff4",
   "metadata": {},
   "source": [
    "## Homework / Review\n",
    "\n",
    "Consider the Superstore dataset, which consist of a two tables stored as .csv files.\n",
    "\n",
    "- Products Table (products.csv)\n",
    "- Orders Table (orders.csv)\n",
    "\n",
    "The Products Table contains the following attributes:\n",
    "\n",
    "- **product_id** - \tThe unique identifier value for the product in the order.\n",
    "- **category** - \tThe product's highest level category.\n",
    "- **sub_category** - \tThe classification of the product within the high-level category.\n",
    "- **product_name** - \tThe name of the product.\n",
    "- **product_cost_to_consumer** - \tThe cost of each product on a single quantity basis."
   ]
  },
  {
   "cell_type": "markdown",
   "id": "b63ea164",
   "metadata": {},
   "source": [
    "Q1. Read in the products.csv file that is in the `datasets` directory into a DataFrame called `products`.\n",
    "\n"
   ]
  },
  {
   "cell_type": "code",
   "execution_count": null,
   "id": "8e5eae20",
   "metadata": {},
   "outputs": [],
   "source": [
    "#Q1 Answer here\n"
   ]
  },
  {
   "cell_type": "markdown",
   "id": "ae1e0a02",
   "metadata": {},
   "source": [
    "Q2. Print the first 4 rows of the `products` DataFrame.\n"
   ]
  },
  {
   "cell_type": "code",
   "execution_count": null,
   "id": "818bcd5d",
   "metadata": {},
   "outputs": [],
   "source": [
    "#Q2 answer here\n"
   ]
  },
  {
   "cell_type": "markdown",
   "id": "30a8632c",
   "metadata": {},
   "source": [
    "Q3. Identify the shape of the `products` DataFrame (how many rows and columns?)\n"
   ]
  },
  {
   "cell_type": "code",
   "execution_count": null,
   "id": "c7199a89",
   "metadata": {},
   "outputs": [],
   "source": [
    "#Q3 answer here\n"
   ]
  },
  {
   "cell_type": "markdown",
   "id": "76e6e90f",
   "metadata": {},
   "source": [
    "Q4. How many products of each category are there?"
   ]
  },
  {
   "cell_type": "code",
   "execution_count": null,
   "id": "658c4bca",
   "metadata": {},
   "outputs": [],
   "source": [
    "#Q4 Answer here\n"
   ]
  },
  {
   "cell_type": "markdown",
   "id": "88b16e75",
   "metadata": {},
   "source": [
    "Q5. What is the mean product cost to consumer for all products?"
   ]
  },
  {
   "cell_type": "code",
   "execution_count": null,
   "id": "a923c8f0",
   "metadata": {},
   "outputs": [],
   "source": []
  },
  {
   "cell_type": "markdown",
   "id": "228aa717",
   "metadata": {},
   "source": [
    "Q6. What is the mean product cost to consumer for products in the category 'Furniture'?"
   ]
  },
  {
   "cell_type": "code",
   "execution_count": null,
   "id": "aa4f2b2a",
   "metadata": {},
   "outputs": [],
   "source": []
  },
  {
   "cell_type": "markdown",
   "id": "31d235b0",
   "metadata": {},
   "source": [
    "Q7. What are the top 10 products with the highest product cost to consumer containing the word \"Recycled\" or \"Green\" in the product name?\n",
    "Return your answer as a DataFrame object."
   ]
  },
  {
   "cell_type": "code",
   "execution_count": null,
   "id": "4c0c92db",
   "metadata": {},
   "outputs": [],
   "source": []
  },
  {
   "cell_type": "markdown",
   "id": "d3320f48",
   "metadata": {},
   "source": [
    "## Recap\n",
    "\n",
    "We covered a lot of ground! It's ok if this takes a while to gel.\n",
    "\n",
    "```python\n",
    "\n",
    "# basic DataFrame operations\n",
    "df.head()\n",
    "df.tail()\n",
    "df.shape\n",
    "df.columns\n",
    "df.Index\n",
    "df.info()\n",
    "\n",
    "# selecting columns\n",
    "df.column_name\n",
    "df['column_name']\n",
    "df[['column_name1','column_name2','column_name3']]\n",
    "\n",
    "# notable columns operations\n",
    "df.describe() # five number summary\n",
    "df['col1'].nunique() # number of unique values\n",
    "df['col1'].value_counts() # number of occurrences of each value in column\n",
    "\n",
    "# filtering\n",
    "df[ df['col1'] < 50 ] # filter column to be less than 50\n",
    "df[ (df['col1'] == value1) & (df['col2'] > value2) ] # filter column where col1 is equal to value1 AND col2 is greater to value 2\n",
    "\n",
    "# sorting\n",
    "df.sort_values(by='column_name', ascending = False) # sort biggest to smallest\n",
    "\n",
    "```\n",
    "\n",
    "\n",
    "It's common to refer back to your own code *all the time.* Don't hesistate to reference this guide! 🐼\n"
   ]
  }
 ],
 "metadata": {
  "kernelspec": {
   "display_name": "Python 3 (ipykernel)",
   "language": "python",
   "name": "python3"
  },
  "language_info": {
   "codemirror_mode": {
    "name": "ipython",
    "version": 3
   },
   "file_extension": ".py",
   "mimetype": "text/x-python",
   "name": "python",
   "nbconvert_exporter": "python",
   "pygments_lexer": "ipython3",
   "version": "3.9.7"
  }
 },
 "nbformat": 4,
 "nbformat_minor": 5
}
